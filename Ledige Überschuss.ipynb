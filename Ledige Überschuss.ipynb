{
 "cells": [
  {
   "cell_type": "code",
   "execution_count": 371,
   "metadata": {
    "collapsed": true
   },
   "outputs": [],
   "source": [
    "import pandas as pd\n",
    "import matplotlib.pyplot as plt\n",
    "import numpy as np\n",
    "%matplotlib inline\n",
    "import dateutil.parser\n",
    "import re"
   ]
  },
  {
   "cell_type": "markdown",
   "metadata": {},
   "source": [
    "# Wo leben am meisten überschüssige Ledige?"
   ]
  },
  {
   "cell_type": "code",
   "execution_count": 337,
   "metadata": {
    "collapsed": true
   },
   "outputs": [],
   "source": [
    "df_m = pd.read_csv('data/ledige_männer_2015.csv')\n",
    "df_w = pd.read_csv('data/ledige_frauen_2015.csv')"
   ]
  },
  {
   "cell_type": "code",
   "execution_count": 338,
   "metadata": {
    "collapsed": true
   },
   "outputs": [],
   "source": [
    "df = df_w.merge(df_m, left_on='Gemeinde', right_on='Gemeinde')"
   ]
  },
  {
   "cell_type": "markdown",
   "metadata": {},
   "source": [
    "# Total"
   ]
  },
  {
   "cell_type": "code",
   "execution_count": 339,
   "metadata": {
    "collapsed": true
   },
   "outputs": [],
   "source": [
    "df['Ledige Männer Total +/-'] = df['Total ledige Männer ab 20'] - df['Total ledige Frauen ab 20']"
   ]
  },
  {
   "cell_type": "code",
   "execution_count": 340,
   "metadata": {
    "collapsed": false
   },
   "outputs": [
    {
     "data": {
      "text/html": [
       "<div>\n",
       "<table border=\"1\" class=\"dataframe\">\n",
       "  <thead>\n",
       "    <tr style=\"text-align: right;\">\n",
       "      <th></th>\n",
       "      <th>Gemeinde</th>\n",
       "      <th>Ledige Männer Total +/-</th>\n",
       "    </tr>\n",
       "  </thead>\n",
       "  <tbody>\n",
       "    <tr>\n",
       "      <th>631</th>\n",
       "      <td>......1322 Freienbach</td>\n",
       "      <td>627</td>\n",
       "    </tr>\n",
       "    <tr>\n",
       "      <th>53</th>\n",
       "      <td>......0066 Opfikon</td>\n",
       "      <td>507</td>\n",
       "    </tr>\n",
       "    <tr>\n",
       "      <th>630</th>\n",
       "      <td>......1321 Feusisberg</td>\n",
       "      <td>326</td>\n",
       "    </tr>\n",
       "    <tr>\n",
       "      <th>685</th>\n",
       "      <td>......1707 Risch</td>\n",
       "      <td>324</td>\n",
       "    </tr>\n",
       "    <tr>\n",
       "      <th>632</th>\n",
       "      <td>......1323 Wollerau</td>\n",
       "      <td>279</td>\n",
       "    </tr>\n",
       "  </tbody>\n",
       "</table>\n",
       "</div>"
      ],
      "text/plain": [
       "                  Gemeinde  Ledige Männer Total +/-\n",
       "631  ......1322 Freienbach                      627\n",
       "53      ......0066 Opfikon                      507\n",
       "630  ......1321 Feusisberg                      326\n",
       "685       ......1707 Risch                      324\n",
       "632    ......1323 Wollerau                      279"
      ]
     },
     "execution_count": 340,
     "metadata": {},
     "output_type": "execute_result"
    }
   ],
   "source": [
    "df[['Gemeinde', 'Ledige Männer Total +/-']].sort_values(by='Ledige Männer Total +/-', ascending=False).head()"
   ]
  },
  {
   "cell_type": "code",
   "execution_count": 341,
   "metadata": {
    "collapsed": true
   },
   "outputs": [],
   "source": [
    "df['Ledige Frauen Total +/-'] = df['Total ledige Frauen ab 20'] - df['Total ledige Männer ab 20']"
   ]
  },
  {
   "cell_type": "code",
   "execution_count": 342,
   "metadata": {
    "collapsed": false
   },
   "outputs": [
    {
     "data": {
      "text/html": [
       "<div>\n",
       "<table border=\"1\" class=\"dataframe\">\n",
       "  <thead>\n",
       "    <tr style=\"text-align: right;\">\n",
       "      <th></th>\n",
       "      <th>Gemeinde</th>\n",
       "      <th>Ledige Frauen Total +/-</th>\n",
       "    </tr>\n",
       "  </thead>\n",
       "  <tbody>\n",
       "    <tr>\n",
       "      <th>2242</th>\n",
       "      <td>......6621 Genève</td>\n",
       "      <td>9576</td>\n",
       "    </tr>\n",
       "    <tr>\n",
       "      <th>962</th>\n",
       "      <td>......2701 Basel</td>\n",
       "      <td>6766</td>\n",
       "    </tr>\n",
       "    <tr>\n",
       "      <th>168</th>\n",
       "      <td>......0261 Zürich</td>\n",
       "      <td>6127</td>\n",
       "    </tr>\n",
       "    <tr>\n",
       "      <th>361</th>\n",
       "      <td>......0351 Bern</td>\n",
       "      <td>5998</td>\n",
       "    </tr>\n",
       "    <tr>\n",
       "      <th>1900</th>\n",
       "      <td>......5586 Lausanne</td>\n",
       "      <td>5804</td>\n",
       "    </tr>\n",
       "  </tbody>\n",
       "</table>\n",
       "</div>"
      ],
      "text/plain": [
       "                 Gemeinde  Ledige Frauen Total +/-\n",
       "2242    ......6621 Genève                     9576\n",
       "962      ......2701 Basel                     6766\n",
       "168     ......0261 Zürich                     6127\n",
       "361       ......0351 Bern                     5998\n",
       "1900  ......5586 Lausanne                     5804"
      ]
     },
     "execution_count": 342,
     "metadata": {},
     "output_type": "execute_result"
    }
   ],
   "source": [
    "df[['Gemeinde', 'Ledige Frauen Total +/-']].sort_values(by='Ledige Frauen Total +/-', ascending=False).head()"
   ]
  },
  {
   "cell_type": "markdown",
   "metadata": {
    "collapsed": true
   },
   "source": [
    "# Datensammlung mit allen Überschüssen M/W pro Alterskategorie"
   ]
  },
  {
   "cell_type": "code",
   "execution_count": 343,
   "metadata": {
    "collapsed": false
   },
   "outputs": [],
   "source": [
    "del df['Unnamed: 0_x']\n",
    "del df['Unnamed: 0_y']\n",
    "del df['Geschlecht_x']\n",
    "del df['Geschlecht_y']"
   ]
  },
  {
   "cell_type": "code",
   "execution_count": 344,
   "metadata": {
    "collapsed": true
   },
   "outputs": [],
   "source": [
    "age_cat_all = list(df.columns)\n",
    "age_cat_w = age_cat_all[4:33]\n",
    "age_cat_w = age_cat_w[::2]"
   ]
  },
  {
   "cell_type": "code",
   "execution_count": 345,
   "metadata": {
    "collapsed": false
   },
   "outputs": [],
   "source": [
    "age_cat_m = list(df.columns)\n",
    "age_cat_m = age_cat_m[41:73][::2]"
   ]
  },
  {
   "cell_type": "code",
   "execution_count": 346,
   "metadata": {
    "collapsed": false
   },
   "outputs": [],
   "source": [
    "for age_w, age_m in zip(age_cat_w, age_cat_m):\n",
    "    df[age_w +'+/-'] = df[age_w] - df[age_m]\n",
    "    df[age_m +'+/-'] = df[age_m] - df[age_w]"
   ]
  },
  {
   "cell_type": "markdown",
   "metadata": {},
   "source": [
    "# Ledige Frauen 60 - 64"
   ]
  },
  {
   "cell_type": "code",
   "execution_count": 347,
   "metadata": {
    "collapsed": false
   },
   "outputs": [
    {
     "data": {
      "text/html": [
       "<div>\n",
       "<table border=\"1\" class=\"dataframe\">\n",
       "  <thead>\n",
       "    <tr style=\"text-align: right;\">\n",
       "      <th></th>\n",
       "      <th>Gemeinde</th>\n",
       "      <th>Ledige60-64 JahreFrauen Total+/-</th>\n",
       "    </tr>\n",
       "  </thead>\n",
       "  <tbody>\n",
       "    <tr>\n",
       "      <th>168</th>\n",
       "      <td>......0261 Zürich</td>\n",
       "      <td>1420</td>\n",
       "    </tr>\n",
       "    <tr>\n",
       "      <th>2242</th>\n",
       "      <td>......6621 Genève</td>\n",
       "      <td>1023</td>\n",
       "    </tr>\n",
       "    <tr>\n",
       "      <th>1900</th>\n",
       "      <td>......5586 Lausanne</td>\n",
       "      <td>633</td>\n",
       "    </tr>\n",
       "    <tr>\n",
       "      <th>361</th>\n",
       "      <td>......0351 Bern</td>\n",
       "      <td>612</td>\n",
       "    </tr>\n",
       "    <tr>\n",
       "      <th>962</th>\n",
       "      <td>......2701 Basel</td>\n",
       "      <td>467</td>\n",
       "    </tr>\n",
       "  </tbody>\n",
       "</table>\n",
       "</div>"
      ],
      "text/plain": [
       "                 Gemeinde  Ledige60-64 JahreFrauen Total+/-\n",
       "168     ......0261 Zürich                              1420\n",
       "2242    ......6621 Genève                              1023\n",
       "1900  ......5586 Lausanne                               633\n",
       "361       ......0351 Bern                               612\n",
       "962      ......2701 Basel                               467"
      ]
     },
     "execution_count": 347,
     "metadata": {},
     "output_type": "execute_result"
    }
   ],
   "source": [
    "df[['Gemeinde', 'Ledige60-64 JahreFrauen Total+/-']].sort_values(by='Ledige60-64 JahreFrauen Total+/-', ascending=False).head()"
   ]
  },
  {
   "cell_type": "markdown",
   "metadata": {},
   "source": [
    "# Ledige Frauen 20 - 24"
   ]
  },
  {
   "cell_type": "code",
   "execution_count": 348,
   "metadata": {
    "collapsed": false
   },
   "outputs": [
    {
     "data": {
      "text/html": [
       "<div>\n",
       "<table border=\"1\" class=\"dataframe\">\n",
       "  <thead>\n",
       "    <tr style=\"text-align: right;\">\n",
       "      <th></th>\n",
       "      <th>Gemeinde</th>\n",
       "      <th>Ledige20-24 JahreFrauen Total+/-</th>\n",
       "    </tr>\n",
       "  </thead>\n",
       "  <tbody>\n",
       "    <tr>\n",
       "      <th>1739</th>\n",
       "      <td>......5407 Leysin</td>\n",
       "      <td>301</td>\n",
       "    </tr>\n",
       "    <tr>\n",
       "      <th>361</th>\n",
       "      <td>......0351 Bern</td>\n",
       "      <td>283</td>\n",
       "    </tr>\n",
       "    <tr>\n",
       "      <th>2242</th>\n",
       "      <td>......6621 Genève</td>\n",
       "      <td>276</td>\n",
       "    </tr>\n",
       "    <tr>\n",
       "      <th>1699</th>\n",
       "      <td>......5225 Sorengo</td>\n",
       "      <td>127</td>\n",
       "    </tr>\n",
       "    <tr>\n",
       "      <th>2046</th>\n",
       "      <td>......5886 Montreux</td>\n",
       "      <td>106</td>\n",
       "    </tr>\n",
       "  </tbody>\n",
       "</table>\n",
       "</div>"
      ],
      "text/plain": [
       "                 Gemeinde  Ledige20-24 JahreFrauen Total+/-\n",
       "1739    ......5407 Leysin                               301\n",
       "361       ......0351 Bern                               283\n",
       "2242    ......6621 Genève                               276\n",
       "1699   ......5225 Sorengo                               127\n",
       "2046  ......5886 Montreux                               106"
      ]
     },
     "execution_count": 348,
     "metadata": {},
     "output_type": "execute_result"
    }
   ],
   "source": [
    "df[['Gemeinde', 'Ledige20-24 JahreFrauen Total+/-']].sort_values(by='Ledige20-24 JahreFrauen Total+/-', ascending=False).head()"
   ]
  },
  {
   "cell_type": "markdown",
   "metadata": {},
   "source": [
    "# Ledige Frauen 40-44"
   ]
  },
  {
   "cell_type": "code",
   "execution_count": 349,
   "metadata": {
    "collapsed": false
   },
   "outputs": [
    {
     "data": {
      "text/html": [
       "<div>\n",
       "<table border=\"1\" class=\"dataframe\">\n",
       "  <thead>\n",
       "    <tr style=\"text-align: right;\">\n",
       "      <th></th>\n",
       "      <th>Gemeinde</th>\n",
       "      <th>Ledige40-44 JahreFrauen Total+/-</th>\n",
       "    </tr>\n",
       "  </thead>\n",
       "  <tbody>\n",
       "    <tr>\n",
       "      <th>2048</th>\n",
       "      <td>......5889 La Tour-de-Peilz</td>\n",
       "      <td>67</td>\n",
       "    </tr>\n",
       "    <tr>\n",
       "      <th>2249</th>\n",
       "      <td>......6628 Lancy</td>\n",
       "      <td>58</td>\n",
       "    </tr>\n",
       "    <tr>\n",
       "      <th>1905</th>\n",
       "      <td>......5590 Pully</td>\n",
       "      <td>46</td>\n",
       "    </tr>\n",
       "    <tr>\n",
       "      <th>113</th>\n",
       "      <td>......0159 Uetikon am See</td>\n",
       "      <td>34</td>\n",
       "    </tr>\n",
       "    <tr>\n",
       "      <th>967</th>\n",
       "      <td>......2763 Arlesheim</td>\n",
       "      <td>33</td>\n",
       "    </tr>\n",
       "  </tbody>\n",
       "</table>\n",
       "</div>"
      ],
      "text/plain": [
       "                         Gemeinde  Ledige40-44 JahreFrauen Total+/-\n",
       "2048  ......5889 La Tour-de-Peilz                                67\n",
       "2249             ......6628 Lancy                                58\n",
       "1905             ......5590 Pully                                46\n",
       "113     ......0159 Uetikon am See                                34\n",
       "967          ......2763 Arlesheim                                33"
      ]
     },
     "execution_count": 349,
     "metadata": {},
     "output_type": "execute_result"
    }
   ],
   "source": [
    "df[['Gemeinde', 'Ledige40-44 JahreFrauen Total+/-']].sort_values(by='Ledige40-44 JahreFrauen Total+/-', ascending=False).head()"
   ]
  },
  {
   "cell_type": "markdown",
   "metadata": {},
   "source": [
    "# Ledige Männer Total"
   ]
  },
  {
   "cell_type": "code",
   "execution_count": 350,
   "metadata": {
    "collapsed": false
   },
   "outputs": [
    {
     "data": {
      "text/html": [
       "<div>\n",
       "<table border=\"1\" class=\"dataframe\">\n",
       "  <thead>\n",
       "    <tr style=\"text-align: right;\">\n",
       "      <th></th>\n",
       "      <th>Gemeinde</th>\n",
       "      <th>Ledige Männer Total +/-</th>\n",
       "    </tr>\n",
       "  </thead>\n",
       "  <tbody>\n",
       "    <tr>\n",
       "      <th>631</th>\n",
       "      <td>......1322 Freienbach</td>\n",
       "      <td>627</td>\n",
       "    </tr>\n",
       "    <tr>\n",
       "      <th>53</th>\n",
       "      <td>......0066 Opfikon</td>\n",
       "      <td>507</td>\n",
       "    </tr>\n",
       "    <tr>\n",
       "      <th>630</th>\n",
       "      <td>......1321 Feusisberg</td>\n",
       "      <td>326</td>\n",
       "    </tr>\n",
       "    <tr>\n",
       "      <th>685</th>\n",
       "      <td>......1707 Risch</td>\n",
       "      <td>324</td>\n",
       "    </tr>\n",
       "    <tr>\n",
       "      <th>632</th>\n",
       "      <td>......1323 Wollerau</td>\n",
       "      <td>279</td>\n",
       "    </tr>\n",
       "  </tbody>\n",
       "</table>\n",
       "</div>"
      ],
      "text/plain": [
       "                  Gemeinde  Ledige Männer Total +/-\n",
       "631  ......1322 Freienbach                      627\n",
       "53      ......0066 Opfikon                      507\n",
       "630  ......1321 Feusisberg                      326\n",
       "685       ......1707 Risch                      324\n",
       "632    ......1323 Wollerau                      279"
      ]
     },
     "execution_count": 350,
     "metadata": {},
     "output_type": "execute_result"
    }
   ],
   "source": [
    "df[['Gemeinde', 'Ledige Männer Total +/-']].sort_values(by='Ledige Männer Total +/-', ascending=False).head()"
   ]
  },
  {
   "cell_type": "markdown",
   "metadata": {},
   "source": [
    "# Ledige Frauen Total"
   ]
  },
  {
   "cell_type": "code",
   "execution_count": 351,
   "metadata": {
    "collapsed": false
   },
   "outputs": [
    {
     "data": {
      "text/html": [
       "<div>\n",
       "<table border=\"1\" class=\"dataframe\">\n",
       "  <thead>\n",
       "    <tr style=\"text-align: right;\">\n",
       "      <th></th>\n",
       "      <th>Gemeinde</th>\n",
       "      <th>Ledige Frauen Total +/-</th>\n",
       "    </tr>\n",
       "  </thead>\n",
       "  <tbody>\n",
       "    <tr>\n",
       "      <th>2242</th>\n",
       "      <td>......6621 Genève</td>\n",
       "      <td>9576</td>\n",
       "    </tr>\n",
       "    <tr>\n",
       "      <th>962</th>\n",
       "      <td>......2701 Basel</td>\n",
       "      <td>6766</td>\n",
       "    </tr>\n",
       "    <tr>\n",
       "      <th>168</th>\n",
       "      <td>......0261 Zürich</td>\n",
       "      <td>6127</td>\n",
       "    </tr>\n",
       "    <tr>\n",
       "      <th>361</th>\n",
       "      <td>......0351 Bern</td>\n",
       "      <td>5998</td>\n",
       "    </tr>\n",
       "    <tr>\n",
       "      <th>1900</th>\n",
       "      <td>......5586 Lausanne</td>\n",
       "      <td>5804</td>\n",
       "    </tr>\n",
       "  </tbody>\n",
       "</table>\n",
       "</div>"
      ],
      "text/plain": [
       "                 Gemeinde  Ledige Frauen Total +/-\n",
       "2242    ......6621 Genève                     9576\n",
       "962      ......2701 Basel                     6766\n",
       "168     ......0261 Zürich                     6127\n",
       "361       ......0351 Bern                     5998\n",
       "1900  ......5586 Lausanne                     5804"
      ]
     },
     "execution_count": 351,
     "metadata": {},
     "output_type": "execute_result"
    }
   ],
   "source": [
    "df[['Gemeinde', 'Ledige Frauen Total +/-']].sort_values(by='Ledige Frauen Total +/-', ascending=False).head()"
   ]
  },
  {
   "cell_type": "markdown",
   "metadata": {},
   "source": [
    "# Women/Men +/- per 100"
   ]
  },
  {
   "cell_type": "code",
   "execution_count": 352,
   "metadata": {
    "collapsed": false
   },
   "outputs": [],
   "source": [
    "#number of women and men plus/minus by 100\n",
    "df_all = pd.read_csv('data/2015_TOTAL_bis100.csv', encoding='latin', sep='\\t', skiprows=1)\n",
    "df_all_2 = pd.read_csv('data/2015_TOTAL_100+.csv', encoding='latin', sep='\\t', skiprows=1)"
   ]
  },
  {
   "cell_type": "code",
   "execution_count": 353,
   "metadata": {
    "collapsed": true
   },
   "outputs": [],
   "source": [
    "del df_all_2['Kanton (-) / Bezirk (>>) / Gemeinde (......)']"
   ]
  },
  {
   "cell_type": "code",
   "execution_count": 354,
   "metadata": {
    "collapsed": true
   },
   "outputs": [],
   "source": [
    "df_all = pd.concat([df_all, df_all_2], axis=1, join='inner')"
   ]
  },
  {
   "cell_type": "code",
   "execution_count": 355,
   "metadata": {
    "collapsed": false
   },
   "outputs": [],
   "source": [
    "del df_all['Bevölkerungstyp']\n",
    "del df_all['Geschlecht']\n",
    "del df_all['Zivilstand']\n",
    "del df_all['Jahr']"
   ]
  },
  {
   "cell_type": "code",
   "execution_count": 356,
   "metadata": {
    "collapsed": false
   },
   "outputs": [],
   "source": [
    "df_pro1000 = df_plusminus.merge(df_all, left_on='Gemeinde', right_on='Kanton (-) / Bezirk (>>) / Gemeinde (......)')"
   ]
  },
  {
   "cell_type": "code",
   "execution_count": 357,
   "metadata": {
    "collapsed": false
   },
   "outputs": [],
   "source": [
    "#List of total population\n",
    "gemeinde_bev_total = list(df_pro1000.columns[34:])\n",
    "gemeinde_ledige_frauen_total = list(df_pro1000.columns[3:33][::2])\n",
    "gemeinde_ledige_frauen_total.insert(0, 'Ledige Frauen Total +/-')"
   ]
  },
  {
   "cell_type": "code",
   "execution_count": 358,
   "metadata": {
    "collapsed": false
   },
   "outputs": [],
   "source": [
    "gemeinde_ledige_männer_total = list(df_pro1000.columns[4:34][::2])\n",
    "Männer_total = df_pro1000.columns[2:3]\n",
    "gemeinde_ledige_männer_total.insert(0, 'Ledige Männer Total +/-')"
   ]
  },
  {
   "cell_type": "code",
   "execution_count": 359,
   "metadata": {
    "collapsed": false
   },
   "outputs": [],
   "source": [
    "df_pro1000['Ledige Männer total pro 100'] = round(df_pro1000['Ledige Männer Total +/-'] / df_pro1000['Altersklasse - Total'] * 100, 1)"
   ]
  },
  {
   "cell_type": "code",
   "execution_count": 360,
   "metadata": {
    "collapsed": true
   },
   "outputs": [],
   "source": [
    "for value in gemeinde_ledige_frauen_total:\n",
    "    value_name = value.replace('Ledige', '').replace('Total', '').replace('Jahre', ' jährige')\n",
    "    df_pro1000[value_name + ' pro 100'] = round(df_pro1000[value] / df_pro1000['Altersklasse - Total'] * 100, 1)"
   ]
  },
  {
   "cell_type": "code",
   "execution_count": 361,
   "metadata": {
    "collapsed": false
   },
   "outputs": [],
   "source": [
    "for value in gemeinde_ledige_männer_total:\n",
    "    value_name = value.replace('Ledige', '').replace('Total', '').replace('Jahre', ' jährige')\n",
    "    df_pro1000[value_name + ' pro 100'] = round(df_pro1000[value] / df_pro1000['Altersklasse - Total'] * 100, 1)"
   ]
  },
  {
   "cell_type": "code",
   "execution_count": 362,
   "metadata": {
    "collapsed": false
   },
   "outputs": [
    {
     "data": {
      "text/html": [
       "<div>\n",
       "<table border=\"1\" class=\"dataframe\">\n",
       "  <thead>\n",
       "    <tr style=\"text-align: right;\">\n",
       "      <th></th>\n",
       "      <th>Gemeinde</th>\n",
       "      <th>20-24  jährigeFrauen +/- pro 100</th>\n",
       "    </tr>\n",
       "  </thead>\n",
       "  <tbody>\n",
       "    <tr>\n",
       "      <th>199</th>\n",
       "      <td>......0708 Schelten</td>\n",
       "      <td>7.9</td>\n",
       "    </tr>\n",
       "    <tr>\n",
       "      <th>1739</th>\n",
       "      <td>......5407 Leysin</td>\n",
       "      <td>7.1</td>\n",
       "    </tr>\n",
       "    <tr>\n",
       "      <th>1217</th>\n",
       "      <td>......3707 Lohn (GR)</td>\n",
       "      <td>7.0</td>\n",
       "    </tr>\n",
       "    <tr>\n",
       "      <th>1699</th>\n",
       "      <td>......5225 Sorengo</td>\n",
       "      <td>6.5</td>\n",
       "    </tr>\n",
       "    <tr>\n",
       "      <th>1888</th>\n",
       "      <td>......5930 Suscévaz</td>\n",
       "      <td>4.0</td>\n",
       "    </tr>\n",
       "  </tbody>\n",
       "</table>\n",
       "</div>"
      ],
      "text/plain": [
       "                  Gemeinde  20-24  jährigeFrauen +/- pro 100\n",
       "199    ......0708 Schelten                               7.9\n",
       "1739     ......5407 Leysin                               7.1\n",
       "1217  ......3707 Lohn (GR)                               7.0\n",
       "1699    ......5225 Sorengo                               6.5\n",
       "1888   ......5930 Suscévaz                               4.0"
      ]
     },
     "execution_count": 362,
     "metadata": {},
     "output_type": "execute_result"
    }
   ],
   "source": [
    "df_pro1000[['Gemeinde', '20-24  jährigeFrauen +/- pro 100']].sort_values(by='20-24  jährigeFrauen +/- pro 100', ascending=False).head()"
   ]
  },
  {
   "cell_type": "markdown",
   "metadata": {},
   "source": [
    "[['Gemeinde', 'Ledige Männer total pro 100']].sort_values(by='Ledige Männer total pro 100', ascending=False).head(5)"
   ]
  },
  {
   "cell_type": "markdown",
   "metadata": {},
   "source": [
    "## All the columns"
   ]
  },
  {
   "cell_type": "code",
   "execution_count": 363,
   "metadata": {
    "collapsed": true
   },
   "outputs": [],
   "source": [
    "df.to_csv('All Columns.csv', index=False)"
   ]
  },
  {
   "cell_type": "code",
   "execution_count": null,
   "metadata": {
    "collapsed": true
   },
   "outputs": [],
   "source": [
    "df.to_csv[df.to_csv['Gemeinde']== ]"
   ]
  },
  {
   "cell_type": "markdown",
   "metadata": {},
   "source": [
    "## The absolute number of single men and women"
   ]
  },
  {
   "cell_type": "code",
   "execution_count": 389,
   "metadata": {
    "collapsed": true
   },
   "outputs": [],
   "source": [
    "df_plusminus = pd.concat([pd.DataFrame(df['Gemeinde']), df[list(df.columns[75:])]], axis=1, join='inner')"
   ]
  },
  {
   "cell_type": "code",
   "execution_count": 394,
   "metadata": {
    "collapsed": true
   },
   "outputs": [],
   "source": [
    "def prepping_gemeinde(x):\n",
    "    return x[11:]"
   ]
  },
  {
   "cell_type": "code",
   "execution_count": 395,
   "metadata": {
    "collapsed": true
   },
   "outputs": [],
   "source": [
    "df_plusminus['Gemeinde'] = df_plusminus['Gemeinde'].apply(prepping_gemeinde)"
   ]
  },
  {
   "cell_type": "code",
   "execution_count": 396,
   "metadata": {
    "collapsed": true
   },
   "outputs": [],
   "source": [
    "df_plusminus.to_csv('final_dataset_totals.csv', index=False)"
   ]
  },
  {
   "cell_type": "markdown",
   "metadata": {},
   "source": [
    "## Men/Women +/- per 100 inhabitants"
   ]
  },
  {
   "cell_type": "code",
   "execution_count": 397,
   "metadata": {
    "collapsed": false
   },
   "outputs": [],
   "source": [
    "#Pulling out relevant columns\n",
    "final_dataset = pd.concat([pd.DataFrame(df_pro1000.loc[:, 'Gemeinde']), df_pro1000.loc[:, ' Frauen  +/- pro 100':]], axis=1, join='inner')"
   ]
  },
  {
   "cell_type": "code",
   "execution_count": 398,
   "metadata": {
    "collapsed": false
   },
   "outputs": [],
   "source": [
    "final_dataset['Gemeinde'] = final_dataset['Gemeinde'].apply(prepping_gemeinde)"
   ]
  },
  {
   "cell_type": "code",
   "execution_count": 399,
   "metadata": {
    "collapsed": true
   },
   "outputs": [],
   "source": [
    "final_dataset.to_csv('final_dataset_per100.csv', index=False)"
   ]
  },
  {
   "cell_type": "code",
   "execution_count": null,
   "metadata": {
    "collapsed": true
   },
   "outputs": [],
   "source": []
  }
 ],
 "metadata": {
  "kernelspec": {
   "display_name": "Python 3",
   "language": "python",
   "name": "python3"
  },
  "language_info": {
   "codemirror_mode": {
    "name": "ipython",
    "version": 3
   },
   "file_extension": ".py",
   "mimetype": "text/x-python",
   "name": "python",
   "nbconvert_exporter": "python",
   "pygments_lexer": "ipython3",
   "version": "3.5.1"
  }
 },
 "nbformat": 4,
 "nbformat_minor": 0
}
